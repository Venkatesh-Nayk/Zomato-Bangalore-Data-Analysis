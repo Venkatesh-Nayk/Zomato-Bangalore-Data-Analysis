{
 "cells": [
  {
   "cell_type": "code",
   "execution_count": 1,
   "id": "6fadb734",
   "metadata": {},
   "outputs": [],
   "source": [
    "import pandas as pd"
   ]
  },
  {
   "cell_type": "code",
   "execution_count": 2,
   "id": "ae15456f",
   "metadata": {},
   "outputs": [],
   "source": [
    "normal_form = pd.read_csv('normal_data.csv')\n",
    "restaurant_data = pd.read_csv('Merged_data.csv')"
   ]
  },
  {
   "cell_type": "code",
   "execution_count": 3,
   "id": "637fdce1",
   "metadata": {},
   "outputs": [
    {
     "data": {
      "text/html": [
       "<div>\n",
       "<style scoped>\n",
       "    .dataframe tbody tr th:only-of-type {\n",
       "        vertical-align: middle;\n",
       "    }\n",
       "\n",
       "    .dataframe tbody tr th {\n",
       "        vertical-align: top;\n",
       "    }\n",
       "\n",
       "    .dataframe thead th {\n",
       "        text-align: right;\n",
       "    }\n",
       "</style>\n",
       "<table border=\"1\" class=\"dataframe\">\n",
       "  <thead>\n",
       "    <tr style=\"text-align: right;\">\n",
       "      <th></th>\n",
       "      <th>restaurant_name</th>\n",
       "      <th>Review</th>\n",
       "      <th>cusine</th>\n",
       "      <th>rating</th>\n",
       "      <th>place</th>\n",
       "      <th>price</th>\n",
       "    </tr>\n",
       "  </thead>\n",
       "  <tbody>\n",
       "    <tr>\n",
       "      <th>0</th>\n",
       "      <td>Ovenstory Pizza</td>\n",
       "      <td>5111</td>\n",
       "      <td>pizza</td>\n",
       "      <td>4.3</td>\n",
       "      <td>indiranagar</td>\n",
       "      <td>300</td>\n",
       "    </tr>\n",
       "    <tr>\n",
       "      <th>1</th>\n",
       "      <td>Ovenstory Pizza</td>\n",
       "      <td>5111</td>\n",
       "      <td>fast food</td>\n",
       "      <td>4.3</td>\n",
       "      <td>indiranagar</td>\n",
       "      <td>300</td>\n",
       "    </tr>\n",
       "    <tr>\n",
       "      <th>2</th>\n",
       "      <td>Empire Restaurant</td>\n",
       "      <td>3587</td>\n",
       "      <td>north indian</td>\n",
       "      <td>4.0</td>\n",
       "      <td>brigade road</td>\n",
       "      <td>300</td>\n",
       "    </tr>\n",
       "    <tr>\n",
       "      <th>3</th>\n",
       "      <td>Empire Restaurant</td>\n",
       "      <td>3587</td>\n",
       "      <td>biryani</td>\n",
       "      <td>4.0</td>\n",
       "      <td>brigade road</td>\n",
       "      <td>300</td>\n",
       "    </tr>\n",
       "    <tr>\n",
       "      <th>4</th>\n",
       "      <td>Empire Restaurant</td>\n",
       "      <td>3587</td>\n",
       "      <td>kebab</td>\n",
       "      <td>4.0</td>\n",
       "      <td>brigade road</td>\n",
       "      <td>300</td>\n",
       "    </tr>\n",
       "  </tbody>\n",
       "</table>\n",
       "</div>"
      ],
      "text/plain": [
       "     restaurant_name  Review        cusine rating         place  price\n",
       "0    Ovenstory Pizza    5111         pizza    4.3   indiranagar    300\n",
       "1    Ovenstory Pizza    5111     fast food    4.3   indiranagar    300\n",
       "2  Empire Restaurant    3587  north indian    4.0  brigade road    300\n",
       "3  Empire Restaurant    3587       biryani    4.0  brigade road    300\n",
       "4  Empire Restaurant    3587         kebab    4.0  brigade road    300"
      ]
     },
     "execution_count": 3,
     "metadata": {},
     "output_type": "execute_result"
    }
   ],
   "source": [
    "normal_form.head()"
   ]
  },
  {
   "cell_type": "code",
   "execution_count": 4,
   "id": "d6c35f0a",
   "metadata": {},
   "outputs": [
    {
     "data": {
      "text/html": [
       "<div>\n",
       "<style scoped>\n",
       "    .dataframe tbody tr th:only-of-type {\n",
       "        vertical-align: middle;\n",
       "    }\n",
       "\n",
       "    .dataframe tbody tr th {\n",
       "        vertical-align: top;\n",
       "    }\n",
       "\n",
       "    .dataframe thead th {\n",
       "        text-align: right;\n",
       "    }\n",
       "</style>\n",
       "<table border=\"1\" class=\"dataframe\">\n",
       "  <thead>\n",
       "    <tr style=\"text-align: right;\">\n",
       "      <th></th>\n",
       "      <th>restaurant_name</th>\n",
       "      <th>Review</th>\n",
       "      <th>cusine</th>\n",
       "      <th>rating</th>\n",
       "      <th>place</th>\n",
       "      <th>price</th>\n",
       "    </tr>\n",
       "  </thead>\n",
       "  <tbody>\n",
       "    <tr>\n",
       "      <th>0</th>\n",
       "      <td>Ovenstory Pizza</td>\n",
       "      <td>5111</td>\n",
       "      <td>Pizza, Fast Food</td>\n",
       "      <td>4.3</td>\n",
       "      <td>indiranagar</td>\n",
       "      <td>300</td>\n",
       "    </tr>\n",
       "    <tr>\n",
       "      <th>1</th>\n",
       "      <td>Empire Restaurant</td>\n",
       "      <td>3587</td>\n",
       "      <td>North Indian, Biryani, Kebab, Chinese, South I...</td>\n",
       "      <td>4.0</td>\n",
       "      <td>brigade road</td>\n",
       "      <td>300</td>\n",
       "    </tr>\n",
       "    <tr>\n",
       "      <th>2</th>\n",
       "      <td>Leon's Burgers &amp; Wings</td>\n",
       "      <td>18</td>\n",
       "      <td>Burger, Fast Food, Wraps, Street Food, Dessert...</td>\n",
       "      <td>4.3</td>\n",
       "      <td>frazer town</td>\n",
       "      <td>300</td>\n",
       "    </tr>\n",
       "    <tr>\n",
       "      <th>3</th>\n",
       "      <td>Truffles</td>\n",
       "      <td>1960</td>\n",
       "      <td>Burger, American, Bakery, Italian, Oriental, C...</td>\n",
       "      <td>4.4</td>\n",
       "      <td>st. marks road</td>\n",
       "      <td>300</td>\n",
       "    </tr>\n",
       "    <tr>\n",
       "      <th>4</th>\n",
       "      <td>Domino's Pizza</td>\n",
       "      <td>419</td>\n",
       "      <td>Pizza, Fast Food, Desserts, Beverages</td>\n",
       "      <td>4.1</td>\n",
       "      <td>indiranagar</td>\n",
       "      <td>300</td>\n",
       "    </tr>\n",
       "  </tbody>\n",
       "</table>\n",
       "</div>"
      ],
      "text/plain": [
       "          restaurant_name  Review  \\\n",
       "0         Ovenstory Pizza    5111   \n",
       "1       Empire Restaurant    3587   \n",
       "2  Leon's Burgers & Wings      18   \n",
       "3                Truffles    1960   \n",
       "4          Domino's Pizza     419   \n",
       "\n",
       "                                              cusine rating           place  \\\n",
       "0                                   Pizza, Fast Food    4.3     indiranagar   \n",
       "1  North Indian, Biryani, Kebab, Chinese, South I...    4.0    brigade road   \n",
       "2  Burger, Fast Food, Wraps, Street Food, Dessert...    4.3     frazer town   \n",
       "3  Burger, American, Bakery, Italian, Oriental, C...    4.4  st. marks road   \n",
       "4              Pizza, Fast Food, Desserts, Beverages    4.1     indiranagar   \n",
       "\n",
       "   price  \n",
       "0    300  \n",
       "1    300  \n",
       "2    300  \n",
       "3    300  \n",
       "4    300  "
      ]
     },
     "execution_count": 4,
     "metadata": {},
     "output_type": "execute_result"
    }
   ],
   "source": [
    "restaurant_data.head()"
   ]
  },
  {
   "cell_type": "code",
   "execution_count": 10,
   "id": "f2e27ba9",
   "metadata": {},
   "outputs": [
    {
     "name": "stdout",
     "output_type": "stream",
     "text": [
      "Pizza\n",
      "100\n",
      "indiranagar\n"
     ]
    }
   ],
   "source": [
    "cuisine = input().lower().strip()\n",
    "price = int(input())\n",
    "location = input().lower().strip()"
   ]
  },
  {
   "cell_type": "code",
   "execution_count": 14,
   "id": "e4457dd9",
   "metadata": {},
   "outputs": [],
   "source": [
    "def pop_rest(location,cusine):\n",
    "    popular_cus = ''\n",
    "    popular_cusine = normal_form[normal_form['place'] == location].groupby('cusine')['cusine'].count().sort_values(ascending=False)\n",
    "    popular_cusine =  popular_cusine[popular_cusine == popular_cusine.max()].index.tolist()\n",
    "    if len(popular_cusine) == 1:\n",
    "        popular_cus = popular_cusine[0]\n",
    "    else:\n",
    "        for i in popular_cusine:\n",
    "            if i not in popular_cusine[-1]:\n",
    "                popular_cus += i\n",
    "                popular_cus += ','\n",
    "            else:\n",
    "                popular_cus += i\n",
    "    \n",
    "    popular_restaurant_cusine = restaurant_data[(restaurant_data['cusine'].str.contains(cusine)) & (restaurant_data['place'] == location)].sort_values(['Review','rating'],ascending= False).iloc[0][0]\n",
    "    \n",
    "    avg_price = restaurant_data['price'][restaurant_data['place'] == location]\n",
    "    \n",
    "    most_popular_restaurant = restaurant_data[restaurant_data['place'] == location].sort_values(['Review','rating'],ascending=False)\n",
    "    \n",
    "    return [round(avg_price.mean(),0),popular_cus,most_popular_restaurant.iloc[0][0],most_popular_restaurant.iloc[0][4],popular_restaurant_cusine]"
   ]
  },
  {
   "cell_type": "code",
   "execution_count": 22,
   "id": "454a9d84",
   "metadata": {},
   "outputs": [
    {
     "data": {
      "text/plain": [
       "[208.0, 'beverages', 'Karama Restaurant', 'frazer town', 'Big Bang Pizza']"
      ]
     },
     "execution_count": 22,
     "metadata": {},
     "output_type": "execute_result"
    }
   ],
   "source": [
    "pop_rest(\"frazer town\",\"Pizza\")"
   ]
  },
  {
   "cell_type": "code",
   "execution_count": null,
   "id": "db8d9832",
   "metadata": {},
   "outputs": [],
   "source": []
  }
 ],
 "metadata": {
  "kernelspec": {
   "display_name": "Python 3 (ipykernel)",
   "language": "python",
   "name": "python3"
  },
  "language_info": {
   "codemirror_mode": {
    "name": "ipython",
    "version": 3
   },
   "file_extension": ".py",
   "mimetype": "text/x-python",
   "name": "python",
   "nbconvert_exporter": "python",
   "pygments_lexer": "ipython3",
   "version": "3.9.12"
  }
 },
 "nbformat": 4,
 "nbformat_minor": 5
}
